{
 "cells": [
  {
   "cell_type": "markdown",
   "metadata": {},
   "source": [
    "Importo librerias necesarias"
   ]
  },
  {
   "cell_type": "code",
   "execution_count": 1,
   "metadata": {},
   "outputs": [],
   "source": [
    "import json\n",
    "import pandas as pd\n",
    "import tensorflow as tf"
   ]
  },
  {
   "cell_type": "markdown",
   "metadata": {},
   "source": [
    "Leo el archivo que con el set de datos limpios"
   ]
  },
  {
   "cell_type": "code",
   "execution_count": 2,
   "metadata": {},
   "outputs": [
    {
     "data": {
      "text/plain": [
       "0       0\n",
       "1       0\n",
       "10      0\n",
       "100     0\n",
       "1000    0\n",
       "1001    0\n",
       "1002    0\n",
       "1003    0\n",
       "1004    0\n",
       "1005    0\n",
       "1006    0\n",
       "1007    0\n",
       "1008    0\n",
       "1009    0\n",
       "101     0\n",
       "1010    0\n",
       "1011    0\n",
       "1012    0\n",
       "1013    0\n",
       "1014    0\n",
       "1015    0\n",
       "1016    0\n",
       "1017    0\n",
       "1018    0\n",
       "1019    0\n",
       "102     0\n",
       "1020    0\n",
       "1021    0\n",
       "1022    0\n",
       "1023    0\n",
       "       ..\n",
       "972     0\n",
       "973     0\n",
       "974     0\n",
       "975     0\n",
       "976     0\n",
       "977     0\n",
       "978     0\n",
       "979     0\n",
       "98      0\n",
       "980     0\n",
       "981     0\n",
       "982     0\n",
       "983     0\n",
       "984     0\n",
       "985     0\n",
       "986     0\n",
       "987     0\n",
       "988     0\n",
       "989     0\n",
       "99      0\n",
       "990     0\n",
       "991     0\n",
       "992     0\n",
       "993     0\n",
       "994     0\n",
       "995     0\n",
       "996     0\n",
       "997     0\n",
       "998     0\n",
       "999     0\n",
       "Name: TIER 2 B7, Length: 2850, dtype: int64"
      ]
     },
     "execution_count": 2,
     "metadata": {},
     "output_type": "execute_result"
    }
   ],
   "source": [
    "df = pd.read_json(\"2_cars_to_model_process.json\", orient=\"columns\")\n",
    "df.tail()\n",
    "#elimino columna sin valores o con problemas\n",
    "df.pop('TIER 2 B7')"
   ]
  },
  {
   "cell_type": "markdown",
   "metadata": {},
   "source": [
    "Reservamos un 80% de los datos para entrenamiento"
   ]
  },
  {
   "cell_type": "code",
   "execution_count": 3,
   "metadata": {},
   "outputs": [],
   "source": [
    "train_dataset = df.sample(frac=0.8,random_state=0) "
   ]
  },
  {
   "cell_type": "markdown",
   "metadata": {},
   "source": [
    "El resto de los datos son para test o sea un 20%"
   ]
  },
  {
   "cell_type": "code",
   "execution_count": 4,
   "metadata": {},
   "outputs": [],
   "source": [
    "test_dataset = df.drop(train_dataset.index)"
   ]
  },
  {
   "cell_type": "markdown",
   "metadata": {},
   "source": [
    "Elimino del set de datos la columna que queremos predecir y lo dejamos almacenadas en 2 variables de train y test\n",
    ",para su posterior uso en las evaluciones "
   ]
  },
  {
   "cell_type": "code",
   "execution_count": 5,
   "metadata": {},
   "outputs": [],
   "source": [
    "train_labels = train_dataset.pop('rendimientoMixto')\n",
    "test_labels = test_dataset.pop('rendimientoMixto')"
   ]
  },
  {
   "cell_type": "markdown",
   "metadata": {},
   "source": [
    "#Normalizamos los datos de entrada.\n",
    "Vemos como estan las medianas y desviaciones de los datos, lo guardo para normalizar el modelo en PROD"
   ]
  },
  {
   "cell_type": "code",
   "execution_count": 6,
   "metadata": {},
   "outputs": [
    {
     "data": {
      "text/html": [
       "<div>\n",
       "<style scoped>\n",
       "    .dataframe tbody tr th:only-of-type {\n",
       "        vertical-align: middle;\n",
       "    }\n",
       "\n",
       "    .dataframe tbody tr th {\n",
       "        vertical-align: top;\n",
       "    }\n",
       "\n",
       "    .dataframe thead th {\n",
       "        text-align: right;\n",
       "    }\n",
       "</style>\n",
       "<table border=\"1\" class=\"dataframe\">\n",
       "  <thead>\n",
       "    <tr style=\"text-align: right;\">\n",
       "      <th></th>\n",
       "      <th>count</th>\n",
       "      <th>mean</th>\n",
       "      <th>std</th>\n",
       "      <th>min</th>\n",
       "      <th>25%</th>\n",
       "      <th>50%</th>\n",
       "      <th>75%</th>\n",
       "      <th>max</th>\n",
       "    </tr>\n",
       "  </thead>\n",
       "  <tbody>\n",
       "    <tr>\n",
       "      <th>cilindrada</th>\n",
       "      <td>2280.0</td>\n",
       "      <td>2.294298</td>\n",
       "      <td>1.127685</td>\n",
       "      <td>0.8</td>\n",
       "      <td>1.5</td>\n",
       "      <td>2.0</td>\n",
       "      <td>3.0</td>\n",
       "      <td>6.6</td>\n",
       "    </tr>\n",
       "    <tr>\n",
       "      <th>EURO V</th>\n",
       "      <td>2280.0</td>\n",
       "      <td>0.689474</td>\n",
       "      <td>0.462811</td>\n",
       "      <td>0.0</td>\n",
       "      <td>0.0</td>\n",
       "      <td>1.0</td>\n",
       "      <td>1.0</td>\n",
       "      <td>1.0</td>\n",
       "    </tr>\n",
       "    <tr>\n",
       "      <th>EURO VI</th>\n",
       "      <td>2280.0</td>\n",
       "      <td>0.245614</td>\n",
       "      <td>0.430545</td>\n",
       "      <td>0.0</td>\n",
       "      <td>0.0</td>\n",
       "      <td>0.0</td>\n",
       "      <td>0.0</td>\n",
       "      <td>1.0</td>\n",
       "    </tr>\n",
       "    <tr>\n",
       "      <th>TIER 3 B50</th>\n",
       "      <td>2280.0</td>\n",
       "      <td>0.000877</td>\n",
       "      <td>0.029611</td>\n",
       "      <td>0.0</td>\n",
       "      <td>0.0</td>\n",
       "      <td>0.0</td>\n",
       "      <td>0.0</td>\n",
       "      <td>1.0</td>\n",
       "    </tr>\n",
       "    <tr>\n",
       "      <th>TIER 2 B5</th>\n",
       "      <td>2280.0</td>\n",
       "      <td>0.026754</td>\n",
       "      <td>0.161400</td>\n",
       "      <td>0.0</td>\n",
       "      <td>0.0</td>\n",
       "      <td>0.0</td>\n",
       "      <td>0.0</td>\n",
       "      <td>1.0</td>\n",
       "    </tr>\n",
       "    <tr>\n",
       "      <th>TIER 2 B4</th>\n",
       "      <td>2280.0</td>\n",
       "      <td>0.014474</td>\n",
       "      <td>0.119459</td>\n",
       "      <td>0.0</td>\n",
       "      <td>0.0</td>\n",
       "      <td>0.0</td>\n",
       "      <td>0.0</td>\n",
       "      <td>1.0</td>\n",
       "    </tr>\n",
       "    <tr>\n",
       "      <th>TIER 3 B70</th>\n",
       "      <td>2280.0</td>\n",
       "      <td>0.016667</td>\n",
       "      <td>0.128047</td>\n",
       "      <td>0.0</td>\n",
       "      <td>0.0</td>\n",
       "      <td>0.0</td>\n",
       "      <td>0.0</td>\n",
       "      <td>1.0</td>\n",
       "    </tr>\n",
       "    <tr>\n",
       "      <th>TIER 2 B6</th>\n",
       "      <td>2280.0</td>\n",
       "      <td>0.000439</td>\n",
       "      <td>0.020943</td>\n",
       "      <td>0.0</td>\n",
       "      <td>0.0</td>\n",
       "      <td>0.0</td>\n",
       "      <td>0.0</td>\n",
       "      <td>1.0</td>\n",
       "    </tr>\n",
       "    <tr>\n",
       "      <th>TIER 2 B8</th>\n",
       "      <td>2280.0</td>\n",
       "      <td>0.000439</td>\n",
       "      <td>0.020943</td>\n",
       "      <td>0.0</td>\n",
       "      <td>0.0</td>\n",
       "      <td>0.0</td>\n",
       "      <td>0.0</td>\n",
       "      <td>1.0</td>\n",
       "    </tr>\n",
       "    <tr>\n",
       "      <th>Tier 3 B125</th>\n",
       "      <td>2280.0</td>\n",
       "      <td>0.000439</td>\n",
       "      <td>0.020943</td>\n",
       "      <td>0.0</td>\n",
       "      <td>0.0</td>\n",
       "      <td>0.0</td>\n",
       "      <td>0.0</td>\n",
       "      <td>1.0</td>\n",
       "    </tr>\n",
       "    <tr>\n",
       "      <th>TIER 3 B125</th>\n",
       "      <td>2280.0</td>\n",
       "      <td>0.003070</td>\n",
       "      <td>0.055336</td>\n",
       "      <td>0.0</td>\n",
       "      <td>0.0</td>\n",
       "      <td>0.0</td>\n",
       "      <td>0.0</td>\n",
       "      <td>1.0</td>\n",
       "    </tr>\n",
       "    <tr>\n",
       "      <th>TIER 3 B30</th>\n",
       "      <td>2280.0</td>\n",
       "      <td>0.001754</td>\n",
       "      <td>0.041858</td>\n",
       "      <td>0.0</td>\n",
       "      <td>0.0</td>\n",
       "      <td>0.0</td>\n",
       "      <td>0.0</td>\n",
       "      <td>1.0</td>\n",
       "    </tr>\n",
       "    <tr>\n",
       "      <th>Hatch Back</th>\n",
       "      <td>2280.0</td>\n",
       "      <td>0.200439</td>\n",
       "      <td>0.400416</td>\n",
       "      <td>0.0</td>\n",
       "      <td>0.0</td>\n",
       "      <td>0.0</td>\n",
       "      <td>0.0</td>\n",
       "      <td>1.0</td>\n",
       "    </tr>\n",
       "    <tr>\n",
       "      <th>Sedán</th>\n",
       "      <td>2280.0</td>\n",
       "      <td>0.217982</td>\n",
       "      <td>0.412966</td>\n",
       "      <td>0.0</td>\n",
       "      <td>0.0</td>\n",
       "      <td>0.0</td>\n",
       "      <td>0.0</td>\n",
       "      <td>1.0</td>\n",
       "    </tr>\n",
       "    <tr>\n",
       "      <th>Station Wagon</th>\n",
       "      <td>2280.0</td>\n",
       "      <td>0.354825</td>\n",
       "      <td>0.478565</td>\n",
       "      <td>0.0</td>\n",
       "      <td>0.0</td>\n",
       "      <td>0.0</td>\n",
       "      <td>1.0</td>\n",
       "      <td>1.0</td>\n",
       "    </tr>\n",
       "    <tr>\n",
       "      <th>Cabriolet</th>\n",
       "      <td>2280.0</td>\n",
       "      <td>0.054825</td>\n",
       "      <td>0.227687</td>\n",
       "      <td>0.0</td>\n",
       "      <td>0.0</td>\n",
       "      <td>0.0</td>\n",
       "      <td>0.0</td>\n",
       "      <td>1.0</td>\n",
       "    </tr>\n",
       "    <tr>\n",
       "      <th>Coupé</th>\n",
       "      <td>2280.0</td>\n",
       "      <td>0.078509</td>\n",
       "      <td>0.269030</td>\n",
       "      <td>0.0</td>\n",
       "      <td>0.0</td>\n",
       "      <td>0.0</td>\n",
       "      <td>0.0</td>\n",
       "      <td>1.0</td>\n",
       "    </tr>\n",
       "    <tr>\n",
       "      <th>Convertible</th>\n",
       "      <td>2280.0</td>\n",
       "      <td>0.005702</td>\n",
       "      <td>0.075311</td>\n",
       "      <td>0.0</td>\n",
       "      <td>0.0</td>\n",
       "      <td>0.0</td>\n",
       "      <td>0.0</td>\n",
       "      <td>1.0</td>\n",
       "    </tr>\n",
       "    <tr>\n",
       "      <th>Furgón</th>\n",
       "      <td>2280.0</td>\n",
       "      <td>0.008772</td>\n",
       "      <td>0.093267</td>\n",
       "      <td>0.0</td>\n",
       "      <td>0.0</td>\n",
       "      <td>0.0</td>\n",
       "      <td>0.0</td>\n",
       "      <td>1.0</td>\n",
       "    </tr>\n",
       "    <tr>\n",
       "      <th>Jeep</th>\n",
       "      <td>2280.0</td>\n",
       "      <td>0.005263</td>\n",
       "      <td>0.072372</td>\n",
       "      <td>0.0</td>\n",
       "      <td>0.0</td>\n",
       "      <td>0.0</td>\n",
       "      <td>0.0</td>\n",
       "      <td>1.0</td>\n",
       "    </tr>\n",
       "    <tr>\n",
       "      <th>Limusina</th>\n",
       "      <td>2280.0</td>\n",
       "      <td>0.000877</td>\n",
       "      <td>0.029611</td>\n",
       "      <td>0.0</td>\n",
       "      <td>0.0</td>\n",
       "      <td>0.0</td>\n",
       "      <td>0.0</td>\n",
       "      <td>1.0</td>\n",
       "    </tr>\n",
       "    <tr>\n",
       "      <th>Roadster</th>\n",
       "      <td>2280.0</td>\n",
       "      <td>0.000439</td>\n",
       "      <td>0.020943</td>\n",
       "      <td>0.0</td>\n",
       "      <td>0.0</td>\n",
       "      <td>0.0</td>\n",
       "      <td>0.0</td>\n",
       "      <td>1.0</td>\n",
       "    </tr>\n",
       "    <tr>\n",
       "      <th>Camioneta</th>\n",
       "      <td>2280.0</td>\n",
       "      <td>0.064474</td>\n",
       "      <td>0.245649</td>\n",
       "      <td>0.0</td>\n",
       "      <td>0.0</td>\n",
       "      <td>0.0</td>\n",
       "      <td>0.0</td>\n",
       "      <td>1.0</td>\n",
       "    </tr>\n",
       "    <tr>\n",
       "      <th>Minivan</th>\n",
       "      <td>2280.0</td>\n",
       "      <td>0.003070</td>\n",
       "      <td>0.055336</td>\n",
       "      <td>0.0</td>\n",
       "      <td>0.0</td>\n",
       "      <td>0.0</td>\n",
       "      <td>0.0</td>\n",
       "      <td>1.0</td>\n",
       "    </tr>\n",
       "    <tr>\n",
       "      <th>Furgón Cerrado</th>\n",
       "      <td>2280.0</td>\n",
       "      <td>0.001316</td>\n",
       "      <td>0.036258</td>\n",
       "      <td>0.0</td>\n",
       "      <td>0.0</td>\n",
       "      <td>0.0</td>\n",
       "      <td>0.0</td>\n",
       "      <td>1.0</td>\n",
       "    </tr>\n",
       "    <tr>\n",
       "      <th>Minibus</th>\n",
       "      <td>2280.0</td>\n",
       "      <td>0.003070</td>\n",
       "      <td>0.055336</td>\n",
       "      <td>0.0</td>\n",
       "      <td>0.0</td>\n",
       "      <td>0.0</td>\n",
       "      <td>0.0</td>\n",
       "      <td>1.0</td>\n",
       "    </tr>\n",
       "    <tr>\n",
       "      <th>Microvan</th>\n",
       "      <td>2280.0</td>\n",
       "      <td>0.000439</td>\n",
       "      <td>0.020943</td>\n",
       "      <td>0.0</td>\n",
       "      <td>0.0</td>\n",
       "      <td>0.0</td>\n",
       "      <td>0.0</td>\n",
       "      <td>1.0</td>\n",
       "    </tr>\n",
       "    <tr>\n",
       "      <th>4x2</th>\n",
       "      <td>2280.0</td>\n",
       "      <td>0.723684</td>\n",
       "      <td>0.447273</td>\n",
       "      <td>0.0</td>\n",
       "      <td>0.0</td>\n",
       "      <td>1.0</td>\n",
       "      <td>1.0</td>\n",
       "      <td>1.0</td>\n",
       "    </tr>\n",
       "    <tr>\n",
       "      <th>4x4</th>\n",
       "      <td>2280.0</td>\n",
       "      <td>0.276316</td>\n",
       "      <td>0.447273</td>\n",
       "      <td>0.0</td>\n",
       "      <td>0.0</td>\n",
       "      <td>0.0</td>\n",
       "      <td>1.0</td>\n",
       "      <td>1.0</td>\n",
       "    </tr>\n",
       "    <tr>\n",
       "      <th>M</th>\n",
       "      <td>2280.0</td>\n",
       "      <td>0.337719</td>\n",
       "      <td>0.473036</td>\n",
       "      <td>0.0</td>\n",
       "      <td>0.0</td>\n",
       "      <td>0.0</td>\n",
       "      <td>1.0</td>\n",
       "      <td>1.0</td>\n",
       "    </tr>\n",
       "    <tr>\n",
       "      <th>A</th>\n",
       "      <td>2280.0</td>\n",
       "      <td>0.662281</td>\n",
       "      <td>0.473036</td>\n",
       "      <td>0.0</td>\n",
       "      <td>0.0</td>\n",
       "      <td>1.0</td>\n",
       "      <td>1.0</td>\n",
       "      <td>1.0</td>\n",
       "    </tr>\n",
       "  </tbody>\n",
       "</table>\n",
       "</div>"
      ],
      "text/plain": [
       "                 count      mean       std  min  25%  50%  75%  max\n",
       "cilindrada      2280.0  2.294298  1.127685  0.8  1.5  2.0  3.0  6.6\n",
       "EURO V          2280.0  0.689474  0.462811  0.0  0.0  1.0  1.0  1.0\n",
       "EURO VI         2280.0  0.245614  0.430545  0.0  0.0  0.0  0.0  1.0\n",
       "TIER 3 B50      2280.0  0.000877  0.029611  0.0  0.0  0.0  0.0  1.0\n",
       "TIER 2 B5       2280.0  0.026754  0.161400  0.0  0.0  0.0  0.0  1.0\n",
       "TIER 2 B4       2280.0  0.014474  0.119459  0.0  0.0  0.0  0.0  1.0\n",
       "TIER 3 B70      2280.0  0.016667  0.128047  0.0  0.0  0.0  0.0  1.0\n",
       "TIER 2 B6       2280.0  0.000439  0.020943  0.0  0.0  0.0  0.0  1.0\n",
       "TIER 2 B8       2280.0  0.000439  0.020943  0.0  0.0  0.0  0.0  1.0\n",
       "Tier 3 B125     2280.0  0.000439  0.020943  0.0  0.0  0.0  0.0  1.0\n",
       "TIER 3 B125     2280.0  0.003070  0.055336  0.0  0.0  0.0  0.0  1.0\n",
       "TIER 3 B30      2280.0  0.001754  0.041858  0.0  0.0  0.0  0.0  1.0\n",
       "Hatch Back      2280.0  0.200439  0.400416  0.0  0.0  0.0  0.0  1.0\n",
       "Sedán           2280.0  0.217982  0.412966  0.0  0.0  0.0  0.0  1.0\n",
       "Station Wagon   2280.0  0.354825  0.478565  0.0  0.0  0.0  1.0  1.0\n",
       "Cabriolet       2280.0  0.054825  0.227687  0.0  0.0  0.0  0.0  1.0\n",
       "Coupé           2280.0  0.078509  0.269030  0.0  0.0  0.0  0.0  1.0\n",
       "Convertible     2280.0  0.005702  0.075311  0.0  0.0  0.0  0.0  1.0\n",
       "Furgón          2280.0  0.008772  0.093267  0.0  0.0  0.0  0.0  1.0\n",
       "Jeep            2280.0  0.005263  0.072372  0.0  0.0  0.0  0.0  1.0\n",
       "Limusina        2280.0  0.000877  0.029611  0.0  0.0  0.0  0.0  1.0\n",
       "Roadster        2280.0  0.000439  0.020943  0.0  0.0  0.0  0.0  1.0\n",
       "Camioneta       2280.0  0.064474  0.245649  0.0  0.0  0.0  0.0  1.0\n",
       "Minivan         2280.0  0.003070  0.055336  0.0  0.0  0.0  0.0  1.0\n",
       "Furgón Cerrado  2280.0  0.001316  0.036258  0.0  0.0  0.0  0.0  1.0\n",
       "Minibus         2280.0  0.003070  0.055336  0.0  0.0  0.0  0.0  1.0\n",
       "Microvan        2280.0  0.000439  0.020943  0.0  0.0  0.0  0.0  1.0\n",
       "4x2             2280.0  0.723684  0.447273  0.0  0.0  1.0  1.0  1.0\n",
       "4x4             2280.0  0.276316  0.447273  0.0  0.0  0.0  1.0  1.0\n",
       "M               2280.0  0.337719  0.473036  0.0  0.0  0.0  1.0  1.0\n",
       "A               2280.0  0.662281  0.473036  0.0  0.0  1.0  1.0  1.0"
      ]
     },
     "execution_count": 6,
     "metadata": {},
     "output_type": "execute_result"
    }
   ],
   "source": [
    "train_stats = train_dataset.describe()\n",
    "train_stats = train_stats.transpose()\n",
    "train_stats.to_json('3_train_stats.json')\n",
    "train_stats "
   ]
  },
  {
   "cell_type": "markdown",
   "metadata": {},
   "source": [
    "Normalizamos , creamos la funcion norm, esta funcion reescala a un rango [0,1](normaliza),\n",
    "y centra las columnas  con respecto a una media 0 con desviacion estandar 1(estandarizacion),\n",
    "de forma que las columnas de características tengan los mismos parámetros que una distribución normal"
   ]
  },
  {
   "cell_type": "code",
   "execution_count": 7,
   "metadata": {},
   "outputs": [],
   "source": [
    "def norm(x):\n",
    "  return (x - train_stats['mean']) / train_stats['std']"
   ]
  },
  {
   "cell_type": "markdown",
   "metadata": {},
   "source": [
    "Normalizamos el set de entrenamiento"
   ]
  },
  {
   "cell_type": "code",
   "execution_count": 8,
   "metadata": {},
   "outputs": [],
   "source": [
    "normed_train_data = norm(train_dataset) "
   ]
  },
  {
   "cell_type": "markdown",
   "metadata": {},
   "source": [
    "Normalizamos el set de de test para inferir luego"
   ]
  },
  {
   "cell_type": "code",
   "execution_count": 9,
   "metadata": {},
   "outputs": [],
   "source": [
    "normed_test_data = norm(test_dataset) \n",
    "normed_test_data.to_json('4_normed_test_data.json') "
   ]
  },
  {
   "cell_type": "markdown",
   "metadata": {},
   "source": [
    "Verificacion de normalizacion y estandarizacion\n"
   ]
  },
  {
   "cell_type": "code",
   "execution_count": 10,
   "metadata": {},
   "outputs": [],
   "source": [
    "normed_train_stats = normed_train_data.describe().transpose()"
   ]
  },
  {
   "cell_type": "markdown",
   "metadata": {},
   "source": [
    "#DEFINIMOS EL MODELO------\n",
    "Esperamos solo un valor continuo, sin funcion de activacion o sea una capa final dense(1).\n",
    "Definimos 2 capas inciales densamente conectadas de 64 neuronas. Con la primera capa de tamano de entrada igual al set de entrenamiento."
   ]
  },
  {
   "cell_type": "code",
   "execution_count": 11,
   "metadata": {},
   "outputs": [],
   "source": [
    "from tensorflow.keras import Sequential\n",
    "from tensorflow.keras.layers import Dense\n",
    "\n",
    "def build_model():\n",
    "  model = Sequential()\n",
    "  model.add(Dense(64, activation='relu',input_shape=[len(train_dataset.keys())]))\n",
    "  model.add(Dense(64, activation='relu'))\n",
    "  model.add(Dense(1))\n",
    "  return model"
   ]
  },
  {
   "cell_type": "markdown",
   "metadata": {},
   "source": [
    "Creamos el modelo"
   ]
  },
  {
   "cell_type": "code",
   "execution_count": 12,
   "metadata": {},
   "outputs": [],
   "source": [
    "model=build_model()"
   ]
  },
  {
   "cell_type": "code",
   "execution_count": 13,
   "metadata": {},
   "outputs": [
    {
     "name": "stdout",
     "output_type": "stream",
     "text": [
      "Model: \"sequential\"\n",
      "_________________________________________________________________\n",
      "Layer (type)                 Output Shape              Param #   \n",
      "=================================================================\n",
      "dense (Dense)                (None, 64)                2048      \n",
      "_________________________________________________________________\n",
      "dense_1 (Dense)              (None, 64)                4160      \n",
      "_________________________________________________________________\n",
      "dense_2 (Dense)              (None, 1)                 65        \n",
      "=================================================================\n",
      "Total params: 6,273\n",
      "Trainable params: 6,273\n",
      "Non-trainable params: 0\n",
      "_________________________________________________________________\n"
     ]
    }
   ],
   "source": [
    "model.summary()"
   ]
  },
  {
   "cell_type": "markdown",
   "metadata": {},
   "source": [
    "#Configuracion del modelo\n",
    "Se empleara como optimizador RMSprop, como funcion de perdida MSE, con metricas MSE y MAE"
   ]
  },
  {
   "cell_type": "code",
   "execution_count": 14,
   "metadata": {},
   "outputs": [],
   "source": [
    "optimizer = tf.keras.optimizers.RMSprop(0.001)\n",
    "#ratio de aprendizaje de 0.001"
   ]
  },
  {
   "cell_type": "code",
   "execution_count": 15,
   "metadata": {},
   "outputs": [],
   "source": [
    "model.compile(loss='mse',\n",
    "                optimizer=optimizer,\n",
    "                metrics=['mae', 'mse'])"
   ]
  },
  {
   "cell_type": "markdown",
   "metadata": {},
   "source": [
    "Al modelo le agregaremos una funcion de callback EarlyStopping, esta,  interrumpe el entrenamiento cuando las metricas de la funcion de perdida, para los datos de validacion, no mejoran luego de 20 epocks.\n"
   ]
  },
  {
   "cell_type": "code",
   "execution_count": 16,
   "metadata": {},
   "outputs": [],
   "source": [
    "early_stop= tf.keras.callbacks.EarlyStopping(monitor='val_loss', patience=20)"
   ]
  },
  {
   "cell_type": "markdown",
   "metadata": {},
   "source": [
    "Se correran 1000 epocks . Se sacaran un 20% para datos de validacion de los datos de entrenamiento. Se desactiva el verbose a 0 para no acumular en pantalla tantos datos"
   ]
  },
  {
   "cell_type": "code",
   "execution_count": 17,
   "metadata": {},
   "outputs": [],
   "source": [
    "EPOCHS = 1000\n",
    "\n",
    "history = model.fit(\n",
    "            normed_train_data, train_labels,\n",
    "            epochs=EPOCHS, validation_split = 0.2, verbose=0,callbacks=[early_stop]) "
   ]
  },
  {
   "cell_type": "markdown",
   "metadata": {},
   "source": [
    "Vemos del historial las estadisticas almacenadas"
   ]
  },
  {
   "cell_type": "code",
   "execution_count": 18,
   "metadata": {},
   "outputs": [
    {
     "data": {
      "text/html": [
       "<div>\n",
       "<style scoped>\n",
       "    .dataframe tbody tr th:only-of-type {\n",
       "        vertical-align: middle;\n",
       "    }\n",
       "\n",
       "    .dataframe tbody tr th {\n",
       "        vertical-align: top;\n",
       "    }\n",
       "\n",
       "    .dataframe thead th {\n",
       "        text-align: right;\n",
       "    }\n",
       "</style>\n",
       "<table border=\"1\" class=\"dataframe\">\n",
       "  <thead>\n",
       "    <tr style=\"text-align: right;\">\n",
       "      <th></th>\n",
       "      <th>loss</th>\n",
       "      <th>mae</th>\n",
       "      <th>mse</th>\n",
       "      <th>val_loss</th>\n",
       "      <th>val_mae</th>\n",
       "      <th>val_mse</th>\n",
       "      <th>epoch</th>\n",
       "    </tr>\n",
       "  </thead>\n",
       "  <tbody>\n",
       "    <tr>\n",
       "      <th>102</th>\n",
       "      <td>2.158622</td>\n",
       "      <td>1.132213</td>\n",
       "      <td>2.158622</td>\n",
       "      <td>2.253383</td>\n",
       "      <td>1.144934</td>\n",
       "      <td>2.253383</td>\n",
       "      <td>102</td>\n",
       "    </tr>\n",
       "    <tr>\n",
       "      <th>103</th>\n",
       "      <td>2.167489</td>\n",
       "      <td>1.139756</td>\n",
       "      <td>2.167489</td>\n",
       "      <td>2.408399</td>\n",
       "      <td>1.156266</td>\n",
       "      <td>2.408399</td>\n",
       "      <td>103</td>\n",
       "    </tr>\n",
       "    <tr>\n",
       "      <th>104</th>\n",
       "      <td>2.174398</td>\n",
       "      <td>1.130997</td>\n",
       "      <td>2.174398</td>\n",
       "      <td>2.345489</td>\n",
       "      <td>1.159116</td>\n",
       "      <td>2.345490</td>\n",
       "      <td>104</td>\n",
       "    </tr>\n",
       "    <tr>\n",
       "      <th>105</th>\n",
       "      <td>2.171928</td>\n",
       "      <td>1.139337</td>\n",
       "      <td>2.171928</td>\n",
       "      <td>2.236602</td>\n",
       "      <td>1.134623</td>\n",
       "      <td>2.236602</td>\n",
       "      <td>105</td>\n",
       "    </tr>\n",
       "    <tr>\n",
       "      <th>106</th>\n",
       "      <td>2.159909</td>\n",
       "      <td>1.133869</td>\n",
       "      <td>2.159909</td>\n",
       "      <td>2.205422</td>\n",
       "      <td>1.124852</td>\n",
       "      <td>2.205422</td>\n",
       "      <td>106</td>\n",
       "    </tr>\n",
       "  </tbody>\n",
       "</table>\n",
       "</div>"
      ],
      "text/plain": [
       "         loss       mae       mse  val_loss   val_mae   val_mse  epoch\n",
       "102  2.158622  1.132213  2.158622  2.253383  1.144934  2.253383    102\n",
       "103  2.167489  1.139756  2.167489  2.408399  1.156266  2.408399    103\n",
       "104  2.174398  1.130997  2.174398  2.345489  1.159116  2.345490    104\n",
       "105  2.171928  1.139337  2.171928  2.236602  1.134623  2.236602    105\n",
       "106  2.159909  1.133869  2.159909  2.205422  1.124852  2.205422    106"
      ]
     },
     "execution_count": 18,
     "metadata": {},
     "output_type": "execute_result"
    }
   ],
   "source": [
    "hist = pd.DataFrame(history.history)\n",
    "hist['epoch'] = history.epoch\n",
    "hist.tail() "
   ]
  },
  {
   "cell_type": "markdown",
   "metadata": {},
   "source": [
    "Graficamos la evolucion de los  datos de error tanto de los valores de entrenamiento como los de validacion"
   ]
  },
  {
   "cell_type": "code",
   "execution_count": 26,
   "metadata": {},
   "outputs": [
    {
     "data": {
      "image/png": "[encoded data removed]",
      "text/plain": [
       "<Figure size 432x288 with 1 Axes>"
      ]
     },
     "metadata": {
      "needs_background": "light"
     },
     "output_type": "display_data"
    }
   ],
   "source": [
    "import matplotlib.pyplot as plt\n",
    "\n",
    "def plot_history(history):\n",
    "  hist = pd.DataFrame(history.history)\n",
    "  hist['epoch'] = history.epoch\n",
    "\n",
    "  plt.figure()\n",
    "  plt.xlabel('Epoch')\n",
    "  plt.ylabel('Mean Square Error')\n",
    "  plt.plot(hist['epoch'], hist['mse'],\n",
    "            label='Train Error')\n",
    "  plt.plot(hist['epoch'], hist['val_mse'],\n",
    "            label = 'Validation Error')\n",
    "  plt.ylim([0,20])\n",
    "  plt.legend()\n",
    "  plt.show()\n",
    "\n",
    "plot_history(history)\n",
    " "
   ]
  },
  {
   "cell_type": "markdown",
   "metadata": {},
   "source": [
    "Evaluamos el error absoluto medio, que es mas humanamente comprensible, este nos retorna un error muy bajo.\n",
    "El cual indica que el modelo es bueno."
   ]
  },
  {
   "cell_type": "code",
   "execution_count": 20,
   "metadata": {},
   "outputs": [
    {
     "name": "stdout",
     "output_type": "stream",
     "text": [
      "570/570 [==============================] - 0s 38us/sample - loss: 2.2118 - mae: 1.1707 - mse: 2.2118\n",
      "Testing set Mean Abs Error: 2.21 KM\n",
      "Testing set Mean Sqr Error: 1.17 KM\n"
     ]
    }
   ],
   "source": [
    "loss, mse, mae = model.evaluate(normed_test_data, test_labels)\n",
    "print(\"Testing set Mean Abs Error: {:.2f} KM\".format(mae))\n",
    "print(\"Testing set Mean Sqr Error: {:.2f} KM\".format(mse))\n",
    " "
   ]
  },
  {
   "cell_type": "markdown",
   "metadata": {},
   "source": [
    "Guardamos el modelo obtenido en un archivo H5"
   ]
  },
  {
   "cell_type": "code",
   "execution_count": 21,
   "metadata": {},
   "outputs": [],
   "source": [
    "# Guardar el Modelo\n",
    "model.save('cars_model.h5')"
   ]
  },
  {
   "cell_type": "markdown",
   "metadata": {},
   "source": [
    "Levantamos el archivo de entrenamiento, este sera el transportable al destino final en produccion"
   ]
  },
  {
   "cell_type": "code",
   "execution_count": 22,
   "metadata": {},
   "outputs": [],
   "source": [
    "\n",
    "# Recrea exactamente el mismo modelo solo desde el archivo\n",
    "loaded_model = tf.keras.models.load_model('cars_model.h5')\n"
   ]
  },
  {
   "cell_type": "markdown",
   "metadata": {},
   "source": [
    "Predecimos el primer valor del set de datos de test normalizado , y comparamos con el valor real almacenado en test_labels, antes visualizamos el modelo de auto que vamos a inferir."
   ]
  },
  {
   "cell_type": "code",
   "execution_count": 25,
   "metadata": {},
   "outputs": [
    {
     "data": {
      "text/html": [
       "<div>\n",
       "<style scoped>\n",
       "    .dataframe tbody tr th:only-of-type {\n",
       "        vertical-align: middle;\n",
       "    }\n",
       "\n",
       "    .dataframe tbody tr th {\n",
       "        vertical-align: top;\n",
       "    }\n",
       "\n",
       "    .dataframe thead th {\n",
       "        text-align: right;\n",
       "    }\n",
       "</style>\n",
       "<table border=\"1\" class=\"dataframe\">\n",
       "  <thead>\n",
       "    <tr style=\"text-align: right;\">\n",
       "      <th></th>\n",
       "      <th>cilindrada</th>\n",
       "      <th>EURO V</th>\n",
       "      <th>EURO VI</th>\n",
       "      <th>TIER 3 B50</th>\n",
       "      <th>TIER 2 B5</th>\n",
       "      <th>TIER 2 B4</th>\n",
       "      <th>TIER 3 B70</th>\n",
       "      <th>TIER 2 B6</th>\n",
       "      <th>TIER 2 B8</th>\n",
       "      <th>Tier 3 B125</th>\n",
       "      <th>...</th>\n",
       "      <th>Roadster</th>\n",
       "      <th>Camioneta</th>\n",
       "      <th>Minivan</th>\n",
       "      <th>Furgón Cerrado</th>\n",
       "      <th>Minibus</th>\n",
       "      <th>Microvan</th>\n",
       "      <th>4x2</th>\n",
       "      <th>4x4</th>\n",
       "      <th>M</th>\n",
       "      <th>A</th>\n",
       "    </tr>\n",
       "  </thead>\n",
       "  <tbody>\n",
       "    <tr>\n",
       "      <th>0</th>\n",
       "      <td>1.4</td>\n",
       "      <td>1</td>\n",
       "      <td>0</td>\n",
       "      <td>0</td>\n",
       "      <td>0</td>\n",
       "      <td>0</td>\n",
       "      <td>0</td>\n",
       "      <td>0</td>\n",
       "      <td>0</td>\n",
       "      <td>0</td>\n",
       "      <td>...</td>\n",
       "      <td>0</td>\n",
       "      <td>0</td>\n",
       "      <td>0</td>\n",
       "      <td>0</td>\n",
       "      <td>0</td>\n",
       "      <td>0</td>\n",
       "      <td>1</td>\n",
       "      <td>0</td>\n",
       "      <td>1</td>\n",
       "      <td>0</td>\n",
       "    </tr>\n",
       "  </tbody>\n",
       "</table>\n",
       "<p>1 rows × 31 columns</p>\n",
       "</div>"
      ],
      "text/plain": [
       "   cilindrada  EURO V  EURO VI  TIER 3 B50  TIER 2 B5  TIER 2 B4  TIER 3 B70  \\\n",
       "0         1.4       1        0           0          0          0           0   \n",
       "\n",
       "   TIER 2 B6  TIER 2 B8  Tier 3 B125  ...  Roadster  Camioneta  Minivan  \\\n",
       "0          0          0            0  ...         0          0        0   \n",
       "\n",
       "   Furgón Cerrado  Minibus  Microvan  4x2  4x4  M  A  \n",
       "0               0        0         0    1    0  1  0  \n",
       "\n",
       "[1 rows x 31 columns]"
      ]
     },
     "execution_count": 25,
     "metadata": {},
     "output_type": "execute_result"
    }
   ],
   "source": [
    "test_dataset.head(1)"
   ]
  },
  {
   "cell_type": "markdown",
   "metadata": {},
   "source": [
    "Inferimos el valor final"
   ]
  },
  {
   "cell_type": "code",
   "execution_count": 24,
   "metadata": {},
   "outputs": [
    {
     "name": "stdout",
     "output_type": "stream",
     "text": [
      "Predicted=[16.1754] , Real=16.7\n"
     ]
    }
   ],
   "source": [
    "Xnew = loaded_model.predict(normed_test_data)\n",
    "print(\"Predicted=%s , Real=%s\" % (Xnew[0],test_labels[0]))"
   ]
  }
 ],
 "metadata": {
  "kernelspec": {
   "display_name": "Python 3",
   "language": "python",
   "name": "python3"
  },
  "language_info": {
   "codemirror_mode": {
    "name": "ipython",
    "version": 3
   },
   "file_extension": ".py",
   "mimetype": "text/x-python",
   "name": "python",
   "nbconvert_exporter": "python",
   "pygments_lexer": "ipython3",
   "version": "3.7.3"
  }
 },
 "nbformat": 4,
 "nbformat_minor": 2
}

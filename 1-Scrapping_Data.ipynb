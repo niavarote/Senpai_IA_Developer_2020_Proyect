{
 "cells": [
  {
   "cell_type": "markdown",
   "metadata": {},
   "source": [
    "Importamos la librerias utiles para la extraccion de datos, Numpy para el trabajo con arrays"
   ]
  },
  {
   "cell_type": "code",
   "execution_count": 2,
   "metadata": {},
   "outputs": [],
   "source": [
    "import requests \n",
    "import json\n",
    "import numpy as np"
   ]
  },
  {
   "cell_type": "markdown",
   "metadata": {},
   "source": [
    "Obtengo la primera pagina del sitio consumovehicular.cl para obtener la cantidad de paginas a traer."
   ]
  },
  {
   "cell_type": "code",
   "execution_count": 3,
   "metadata": {},
   "outputs": [
    {
     "name": "stdout",
     "output_type": "stream",
     "text": [
      "------------------------\n",
      "INIT DOWNLOAD\n",
      "\n",
      "Download page: 1\n",
      "\n",
      "GET pages list...\n",
      "\n",
      "TOTAL pages:58\n",
      "\n"
     ]
    }
   ],
   "source": [
    "\n",
    "print (\"------------------------\")\n",
    "print (\"INIT DOWNLOAD\")\n",
    "print (\"\")\n",
    "print(\"Download page: 1\")\n",
    "print (\"\")\n",
    "URL = \"http://www.consumovehicular.cl/backend/scv/vehiculo?criterio=idEtiqueta:EQ:COMBUSTION+GASOLINA&page=1&size=50&sort=nombreMarca&sort=nombreModelo\"\n",
    "#print(URL)\n",
    "PARAMS = {} \n",
    "print (\"GET pages list...\")\n",
    "print (\"\")\n",
    "r = requests.get(url = URL, params = PARAMS) \n",
    "d = json.loads(r.text)\n",
    "pages= d['totalPages']\n",
    "print (\"TOTAL pages:\"+ pages.__str__())\n",
    "print (\"\")"
   ]
  },
  {
   "cell_type": "markdown",
   "metadata": {},
   "source": [
    "Elimino algunos campos que estan de mas en la pagina 1, a simple vista, en el Json entrante, \n",
    "igualmente en la limpieza de datos mas adelante se eliminaran columnas"
   ]
  },
  {
   "cell_type": "code",
   "execution_count": 4,
   "metadata": {},
   "outputs": [],
   "source": [
    "for con in d[\"content\"]:\n",
    "  del con[\"vehiculosList\"]"
   ]
  },
  {
   "cell_type": "markdown",
   "metadata": {},
   "source": [
    "Continuos bajando las siguientes paginas , eliminando campos inecesarias"
   ]
  },
  {
   "cell_type": "code",
   "execution_count": 5,
   "metadata": {},
   "outputs": [
    {
     "name": "stdout",
     "output_type": "stream",
     "text": [
      "Download page: 2\n",
      "Download page: 3\n",
      "Download page: 4\n",
      "Download page: 5\n",
      "Download page: 6\n",
      "Download page: 7\n",
      "Download page: 8\n",
      "Download page: 9\n",
      "Download page: 10\n",
      "Download page: 11\n",
      "Download page: 12\n",
      "Download page: 13\n",
      "Download page: 14\n",
      "Download page: 15\n",
      "Download page: 16\n",
      "Download page: 17\n",
      "Download page: 18\n",
      "Download page: 19\n",
      "Download page: 20\n",
      "Download page: 21\n",
      "Download page: 22\n",
      "Download page: 23\n",
      "Download page: 24\n",
      "Download page: 25\n",
      "Download page: 26\n",
      "Download page: 27\n",
      "Download page: 28\n",
      "Download page: 29\n",
      "Download page: 30\n",
      "Download page: 31\n",
      "Download page: 32\n",
      "Download page: 33\n",
      "Download page: 34\n",
      "Download page: 35\n",
      "Download page: 36\n",
      "Download page: 37\n",
      "Download page: 38\n",
      "Download page: 39\n",
      "Download page: 40\n",
      "Download page: 41\n",
      "Download page: 42\n",
      "Download page: 43\n",
      "Download page: 44\n",
      "Download page: 45\n",
      "Download page: 46\n",
      "Download page: 47\n",
      "Download page: 48\n",
      "Download page: 49\n",
      "Download page: 50\n",
      "Download page: 51\n",
      "Download page: 52\n",
      "Download page: 53\n",
      "Download page: 54\n",
      "Download page: 55\n",
      "Download page: 56\n",
      "Download page: 57\n",
      "Download page: 58\n",
      "\n",
      "FINISH DOWNLOAD\n",
      "------------------------\n"
     ]
    }
   ],
   "source": [
    "\n",
    "#arranco desde la pagina 2 porque ya tengo la 1\n",
    "for page in range(2,pages+1):\n",
    "  print(\"Download page: \" + page.__str__())\n",
    "  url=\"http://www.consumovehicular.cl/backend/scv/vehiculo?criterio=idEtiqueta:EQ:COMBUSTION+GASOLINA&page=\"+ page.__str__() +\"&size=50&sort=nombreMarca&sort=nombreModelo\"\n",
    "  r2 = requests.get(url = url)\n",
    "  e = json.loads(r2.text)\n",
    "  #Elimino datos inecesario del json obtenido  \n",
    "  for con in e[\"content\"]:\n",
    "    del con[\"vehiculosList\"]\n",
    "  #Agregos los vehiculos al array principa d    \n",
    "  d[\"content\"] = d[\"content\"] + e[\"content\"]  \n",
    "\n",
    "print (\"\")\n",
    "print (\"FINISH DOWNLOAD\")\n",
    "print (\"------------------------\")"
   ]
  },
  {
   "cell_type": "markdown",
   "metadata": {},
   "source": [
    "Grabo los datos en un archivo cuyo nombre es cars.json para su posterior uso"
   ]
  },
  {
   "cell_type": "code",
   "execution_count": 6,
   "metadata": {},
   "outputs": [
    {
     "name": "stdout",
     "output_type": "stream",
     "text": [
      "Save file cars.json..\n",
      "\n",
      "------------------------\n"
     ]
    }
   ],
   "source": [
    "print (\"Save file cars.json..\")\n",
    "\n",
    "with open('1_cars.json', 'w') as outfile:\n",
    "    json.dump(d[\"content\"],outfile)\n",
    "\n",
    "print (\"\")\n",
    "print (\"------------------------\")"
   ]
  },
  {
   "cell_type": "code",
   "execution_count": null,
   "metadata": {},
   "outputs": [],
   "source": []
  }
 ],
 "metadata": {
  "kernelspec": {
   "display_name": "Python 3",
   "language": "python",
   "name": "python3"
  },
  "language_info": {
   "codemirror_mode": {
    "name": "ipython",
    "version": 3
   },
   "file_extension": ".py",
   "mimetype": "text/x-python",
   "name": "python",
   "nbconvert_exporter": "python",
   "pygments_lexer": "ipython3",
   "version": "3.7.3"
  }
 },
 "nbformat": 4,
 "nbformat_minor": 2
}
